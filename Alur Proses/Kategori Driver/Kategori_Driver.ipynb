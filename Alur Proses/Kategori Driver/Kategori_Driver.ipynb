{
  "nbformat": 4,
  "nbformat_minor": 0,
  "metadata": {
    "colab": {
      "name": "Kategori_Driver.ipynb",
      "provenance": [],
      "collapsed_sections": []
    },
    "kernelspec": {
      "name": "python3",
      "display_name": "Python 3"
    },
    "accelerator": "GPU"
  },
  "cells": [
    {
      "cell_type": "code",
      "metadata": {
        "id": "B8fzqgSNffWX"
      },
      "source": [
        "import pandas as pd\n",
        "import numpy as np\n",
        "import matplotlib as mpl\n",
        "import matplotlib.pyplot as plt"
      ],
      "execution_count": 13,
      "outputs": []
    },
    {
      "cell_type": "code",
      "metadata": {
        "colab": {
          "base_uri": "https://localhost:8080/",
          "height": 359
        },
        "id": "URS_UkVuf7i1",
        "outputId": "29dfb6f9-4003-4660-9e58-383840912b66"
      },
      "source": [
        "data = pd.read_csv(\"Output3.csv\")\n",
        "data.drop(data.index[:1], inplace=True)\n",
        "data.head(10)"
      ],
      "execution_count": 14,
      "outputs": [
        {
          "output_type": "execute_result",
          "data": {
            "text/html": [
              "<div>\n",
              "<style scoped>\n",
              "    .dataframe tbody tr th:only-of-type {\n",
              "        vertical-align: middle;\n",
              "    }\n",
              "\n",
              "    .dataframe tbody tr th {\n",
              "        vertical-align: top;\n",
              "    }\n",
              "\n",
              "    .dataframe thead th {\n",
              "        text-align: right;\n",
              "    }\n",
              "</style>\n",
              "<table border=\"1\" class=\"dataframe\">\n",
              "  <thead>\n",
              "    <tr style=\"text-align: right;\">\n",
              "      <th></th>\n",
              "      <th>Unnamed: 0</th>\n",
              "      <th>speed</th>\n",
              "      <th>kmh</th>\n",
              "      <th>yaw</th>\n",
              "      <th>rad</th>\n",
              "      <th>pirad</th>\n",
              "      <th>Fuzzy Value</th>\n",
              "    </tr>\n",
              "  </thead>\n",
              "  <tbody>\n",
              "    <tr>\n",
              "      <th>1</th>\n",
              "      <td>1</td>\n",
              "      <td>5.29E+00</td>\n",
              "      <td>19.04399986</td>\n",
              "      <td>-257.4278509</td>\n",
              "      <td>-4.494772001</td>\n",
              "      <td>-1.430154727</td>\n",
              "      <td>0.209397</td>\n",
              "    </tr>\n",
              "    <tr>\n",
              "      <th>2</th>\n",
              "      <td>2</td>\n",
              "      <td>5.70E+00</td>\n",
              "      <td>20.51999931</td>\n",
              "      <td>-285.5454296</td>\n",
              "      <td>-4.985713849</td>\n",
              "      <td>-1.586363498</td>\n",
              "      <td>0.176190</td>\n",
              "    </tr>\n",
              "    <tr>\n",
              "      <th>3</th>\n",
              "      <td>3</td>\n",
              "      <td>5.78E+00</td>\n",
              "      <td>20.80800076</td>\n",
              "      <td>-273.8312192</td>\n",
              "      <td>-4.781180018</td>\n",
              "      <td>-1.521284551</td>\n",
              "      <td>0.176190</td>\n",
              "    </tr>\n",
              "    <tr>\n",
              "      <th>4</th>\n",
              "      <td>4</td>\n",
              "      <td>6.47E+00</td>\n",
              "      <td>23.29199924</td>\n",
              "      <td>-168.1690526</td>\n",
              "      <td>-2.936285045</td>\n",
              "      <td>-0.934272514</td>\n",
              "      <td>0.221406</td>\n",
              "    </tr>\n",
              "    <tr>\n",
              "      <th>5</th>\n",
              "      <td>5</td>\n",
              "      <td>6.13E+00</td>\n",
              "      <td>22.06800041</td>\n",
              "      <td>-211.1882734</td>\n",
              "      <td>-3.687414298</td>\n",
              "      <td>-1.173268186</td>\n",
              "      <td>0.176190</td>\n",
              "    </tr>\n",
              "    <tr>\n",
              "      <th>6</th>\n",
              "      <td>6</td>\n",
              "      <td>6.11E+00</td>\n",
              "      <td>21.99600048</td>\n",
              "      <td>-297.3197999</td>\n",
              "      <td>-5.191298093</td>\n",
              "      <td>-1.651776666</td>\n",
              "      <td>0.176190</td>\n",
              "    </tr>\n",
              "    <tr>\n",
              "      <th>7</th>\n",
              "      <td>7</td>\n",
              "      <td>6.03E+00</td>\n",
              "      <td>21.70800076</td>\n",
              "      <td>-283.8928189</td>\n",
              "      <td>-4.956858743</td>\n",
              "      <td>-1.577182327</td>\n",
              "      <td>0.176190</td>\n",
              "    </tr>\n",
              "    <tr>\n",
              "      <th>8</th>\n",
              "      <td>8</td>\n",
              "      <td>6.10E+00</td>\n",
              "      <td>21.95999966</td>\n",
              "      <td>-190.327674</td>\n",
              "      <td>-3.32318161</td>\n",
              "      <td>-1.057375967</td>\n",
              "      <td>0.176190</td>\n",
              "    </tr>\n",
              "    <tr>\n",
              "      <th>9</th>\n",
              "      <td>9</td>\n",
              "      <td>6.04E+00</td>\n",
              "      <td>21.74399986</td>\n",
              "      <td>-174.4835976</td>\n",
              "      <td>-3.046539005</td>\n",
              "      <td>-0.96935332</td>\n",
              "      <td>0.197694</td>\n",
              "    </tr>\n",
              "    <tr>\n",
              "      <th>10</th>\n",
              "      <td>10</td>\n",
              "      <td>6.28E+00</td>\n",
              "      <td>22.60800076</td>\n",
              "      <td>-188.1199492</td>\n",
              "      <td>-3.284634033</td>\n",
              "      <td>-1.045110829</td>\n",
              "      <td>0.176190</td>\n",
              "    </tr>\n",
              "  </tbody>\n",
              "</table>\n",
              "</div>"
            ],
            "text/plain": [
              "    Unnamed: 0     speed          kmh  ...           rad         pirad Fuzzy Value\n",
              "1            1  5.29E+00  19.04399986  ...  -4.494772001  -1.430154727    0.209397\n",
              "2            2  5.70E+00  20.51999931  ...  -4.985713849  -1.586363498    0.176190\n",
              "3            3  5.78E+00  20.80800076  ...  -4.781180018  -1.521284551    0.176190\n",
              "4            4  6.47E+00  23.29199924  ...  -2.936285045  -0.934272514    0.221406\n",
              "5            5  6.13E+00  22.06800041  ...  -3.687414298  -1.173268186    0.176190\n",
              "6            6  6.11E+00  21.99600048  ...  -5.191298093  -1.651776666    0.176190\n",
              "7            7  6.03E+00  21.70800076  ...  -4.956858743  -1.577182327    0.176190\n",
              "8            8  6.10E+00  21.95999966  ...   -3.32318161  -1.057375967    0.176190\n",
              "9            9  6.04E+00  21.74399986  ...  -3.046539005   -0.96935332    0.197694\n",
              "10          10  6.28E+00  22.60800076  ...  -3.284634033  -1.045110829    0.176190\n",
              "\n",
              "[10 rows x 7 columns]"
            ]
          },
          "metadata": {
            "tags": []
          },
          "execution_count": 14
        }
      ]
    },
    {
      "cell_type": "code",
      "metadata": {
        "colab": {
          "base_uri": "https://localhost:8080/",
          "height": 359
        },
        "id": "DNquiYiDr6cZ",
        "outputId": "c63dfb2c-cfb8-4687-a12c-09571953dae2"
      },
      "source": [
        "data[\"Driver\"] = \"\"\n",
        "data.head(10)"
      ],
      "execution_count": 15,
      "outputs": [
        {
          "output_type": "execute_result",
          "data": {
            "text/html": [
              "<div>\n",
              "<style scoped>\n",
              "    .dataframe tbody tr th:only-of-type {\n",
              "        vertical-align: middle;\n",
              "    }\n",
              "\n",
              "    .dataframe tbody tr th {\n",
              "        vertical-align: top;\n",
              "    }\n",
              "\n",
              "    .dataframe thead th {\n",
              "        text-align: right;\n",
              "    }\n",
              "</style>\n",
              "<table border=\"1\" class=\"dataframe\">\n",
              "  <thead>\n",
              "    <tr style=\"text-align: right;\">\n",
              "      <th></th>\n",
              "      <th>Unnamed: 0</th>\n",
              "      <th>speed</th>\n",
              "      <th>kmh</th>\n",
              "      <th>yaw</th>\n",
              "      <th>rad</th>\n",
              "      <th>pirad</th>\n",
              "      <th>Fuzzy Value</th>\n",
              "      <th>Driver</th>\n",
              "    </tr>\n",
              "  </thead>\n",
              "  <tbody>\n",
              "    <tr>\n",
              "      <th>1</th>\n",
              "      <td>1</td>\n",
              "      <td>5.29E+00</td>\n",
              "      <td>19.04399986</td>\n",
              "      <td>-257.4278509</td>\n",
              "      <td>-4.494772001</td>\n",
              "      <td>-1.430154727</td>\n",
              "      <td>0.209397</td>\n",
              "      <td></td>\n",
              "    </tr>\n",
              "    <tr>\n",
              "      <th>2</th>\n",
              "      <td>2</td>\n",
              "      <td>5.70E+00</td>\n",
              "      <td>20.51999931</td>\n",
              "      <td>-285.5454296</td>\n",
              "      <td>-4.985713849</td>\n",
              "      <td>-1.586363498</td>\n",
              "      <td>0.176190</td>\n",
              "      <td></td>\n",
              "    </tr>\n",
              "    <tr>\n",
              "      <th>3</th>\n",
              "      <td>3</td>\n",
              "      <td>5.78E+00</td>\n",
              "      <td>20.80800076</td>\n",
              "      <td>-273.8312192</td>\n",
              "      <td>-4.781180018</td>\n",
              "      <td>-1.521284551</td>\n",
              "      <td>0.176190</td>\n",
              "      <td></td>\n",
              "    </tr>\n",
              "    <tr>\n",
              "      <th>4</th>\n",
              "      <td>4</td>\n",
              "      <td>6.47E+00</td>\n",
              "      <td>23.29199924</td>\n",
              "      <td>-168.1690526</td>\n",
              "      <td>-2.936285045</td>\n",
              "      <td>-0.934272514</td>\n",
              "      <td>0.221406</td>\n",
              "      <td></td>\n",
              "    </tr>\n",
              "    <tr>\n",
              "      <th>5</th>\n",
              "      <td>5</td>\n",
              "      <td>6.13E+00</td>\n",
              "      <td>22.06800041</td>\n",
              "      <td>-211.1882734</td>\n",
              "      <td>-3.687414298</td>\n",
              "      <td>-1.173268186</td>\n",
              "      <td>0.176190</td>\n",
              "      <td></td>\n",
              "    </tr>\n",
              "    <tr>\n",
              "      <th>6</th>\n",
              "      <td>6</td>\n",
              "      <td>6.11E+00</td>\n",
              "      <td>21.99600048</td>\n",
              "      <td>-297.3197999</td>\n",
              "      <td>-5.191298093</td>\n",
              "      <td>-1.651776666</td>\n",
              "      <td>0.176190</td>\n",
              "      <td></td>\n",
              "    </tr>\n",
              "    <tr>\n",
              "      <th>7</th>\n",
              "      <td>7</td>\n",
              "      <td>6.03E+00</td>\n",
              "      <td>21.70800076</td>\n",
              "      <td>-283.8928189</td>\n",
              "      <td>-4.956858743</td>\n",
              "      <td>-1.577182327</td>\n",
              "      <td>0.176190</td>\n",
              "      <td></td>\n",
              "    </tr>\n",
              "    <tr>\n",
              "      <th>8</th>\n",
              "      <td>8</td>\n",
              "      <td>6.10E+00</td>\n",
              "      <td>21.95999966</td>\n",
              "      <td>-190.327674</td>\n",
              "      <td>-3.32318161</td>\n",
              "      <td>-1.057375967</td>\n",
              "      <td>0.176190</td>\n",
              "      <td></td>\n",
              "    </tr>\n",
              "    <tr>\n",
              "      <th>9</th>\n",
              "      <td>9</td>\n",
              "      <td>6.04E+00</td>\n",
              "      <td>21.74399986</td>\n",
              "      <td>-174.4835976</td>\n",
              "      <td>-3.046539005</td>\n",
              "      <td>-0.96935332</td>\n",
              "      <td>0.197694</td>\n",
              "      <td></td>\n",
              "    </tr>\n",
              "    <tr>\n",
              "      <th>10</th>\n",
              "      <td>10</td>\n",
              "      <td>6.28E+00</td>\n",
              "      <td>22.60800076</td>\n",
              "      <td>-188.1199492</td>\n",
              "      <td>-3.284634033</td>\n",
              "      <td>-1.045110829</td>\n",
              "      <td>0.176190</td>\n",
              "      <td></td>\n",
              "    </tr>\n",
              "  </tbody>\n",
              "</table>\n",
              "</div>"
            ],
            "text/plain": [
              "    Unnamed: 0     speed          kmh  ...         pirad Fuzzy Value Driver\n",
              "1            1  5.29E+00  19.04399986  ...  -1.430154727    0.209397       \n",
              "2            2  5.70E+00  20.51999931  ...  -1.586363498    0.176190       \n",
              "3            3  5.78E+00  20.80800076  ...  -1.521284551    0.176190       \n",
              "4            4  6.47E+00  23.29199924  ...  -0.934272514    0.221406       \n",
              "5            5  6.13E+00  22.06800041  ...  -1.173268186    0.176190       \n",
              "6            6  6.11E+00  21.99600048  ...  -1.651776666    0.176190       \n",
              "7            7  6.03E+00  21.70800076  ...  -1.577182327    0.176190       \n",
              "8            8  6.10E+00  21.95999966  ...  -1.057375967    0.176190       \n",
              "9            9  6.04E+00  21.74399986  ...   -0.96935332    0.197694       \n",
              "10          10  6.28E+00  22.60800076  ...  -1.045110829    0.176190       \n",
              "\n",
              "[10 rows x 8 columns]"
            ]
          },
          "metadata": {
            "tags": []
          },
          "execution_count": 15
        }
      ]
    },
    {
      "cell_type": "code",
      "metadata": {
        "id": "2zVKc_iJrr3y"
      },
      "source": [
        "def manuver(Fuzzy):\n",
        "  if Fuzzy <0.35:\n",
        "    return 'Agresif'\n",
        "  elif Fuzzy >0.65 and Fuzzy <1:\n",
        "    return 'overtake'\n",
        "  elif Fuzzy >0.35 and Fuzzy <0.65:\n",
        "    return 'Normal'\n",
        "  else:\n",
        "    return 'tidak terdeteksi'"
      ],
      "execution_count": 16,
      "outputs": []
    },
    {
      "cell_type": "code",
      "metadata": {
        "colab": {
          "base_uri": "https://localhost:8080/"
        },
        "id": "pWAS71QSBZls",
        "outputId": "53bca36f-9c8e-41d4-879a-682190960625"
      },
      "source": [
        "for i in range (1, len(data)):\n",
        "  data['Driver'][i] = manuver(data['Fuzzy Value'][i])\n",
        "data.head()\n",
        "\n",
        "data.to_csv('Kategori Driver 3.csv')"
      ],
      "execution_count": 17,
      "outputs": [
        {
          "output_type": "stream",
          "text": [
            "/usr/local/lib/python3.7/dist-packages/ipykernel_launcher.py:2: SettingWithCopyWarning: \n",
            "A value is trying to be set on a copy of a slice from a DataFrame\n",
            "\n",
            "See the caveats in the documentation: https://pandas.pydata.org/pandas-docs/stable/user_guide/indexing.html#returning-a-view-versus-a-copy\n",
            "  \n"
          ],
          "name": "stderr"
        }
      ]
    },
    {
      "cell_type": "code",
      "metadata": {
        "colab": {
          "base_uri": "https://localhost:8080/",
          "height": 312
        },
        "id": "O-67PxctXGHg",
        "outputId": "0309aa18-a186-48ba-c0b9-fa969f213dae"
      },
      "source": [
        "fig, ax1 = plt.subplots()\n",
        "\n",
        "#labels\n",
        "ax1.set_ylabel('Crisp Output')\n",
        "ax1.set_xlabel('Time (s)')\n",
        "ax1.set_title('Hasil Fuzzy')\n",
        "\n",
        "#c sequence\n",
        "c = data['Fuzzy Value']\n",
        "\n",
        "#plot\n",
        "plt.scatter(data['Unnamed: 0'], data['Fuzzy Value'] , c=c, \n",
        "            cmap = 'RdBu', alpha =0.5)\n",
        "plt.axhline(y=0.5, color='blue', linestyle='-', label='Normal')\n",
        "plt.axhline(y=0.65, color='grey', linestyle='-', label='Overtake')\n",
        "plt.axhline(y=0.35, color='red', linestyle='-', label='Aggresive')\n",
        "plt.legend()"
      ],
      "execution_count": 18,
      "outputs": [
        {
          "output_type": "execute_result",
          "data": {
            "text/plain": [
              "<matplotlib.legend.Legend at 0x7efd5d8852d0>"
            ]
          },
          "metadata": {
            "tags": []
          },
          "execution_count": 18
        },
        {
          "output_type": "display_data",
          "data": {
            "image/png": "[encoded data removed]",
            "text/plain": [
              "<Figure size 432x288 with 1 Axes>"
            ]
          },
          "metadata": {
            "tags": [],
            "needs_background": "light"
          }
        }
      ]
    }
  ]
}