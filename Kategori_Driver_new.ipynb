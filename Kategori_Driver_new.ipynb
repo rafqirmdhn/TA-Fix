{
  "nbformat": 4,
  "nbformat_minor": 0,
  "metadata": {
    "colab": {
      "name": "Kategori Driver_new.ipynb",
      "provenance": [],
      "collapsed_sections": []
    },
    "kernelspec": {
      "name": "python3",
      "display_name": "Python 3"
    },
    "accelerator": "GPU"
  },
  "cells": [
    {
      "cell_type": "code",
      "metadata": {
        "id": "B8fzqgSNffWX"
      },
      "source": [
        "import pandas as pd\n",
        "import numpy as np\n",
        "import matplotlib as mpl\n",
        "import matplotlib.pyplot as plt"
      ],
      "execution_count": 7,
      "outputs": []
    },
    {
      "cell_type": "code",
      "metadata": {
        "colab": {
          "base_uri": "https://localhost:8080/",
          "height": 363
        },
        "id": "URS_UkVuf7i1",
        "outputId": "a6d27e69-409d-4de3-a3e5-7c2cb2a57d3d"
      },
      "source": [
        "data = pd.read_csv(\"Output1.csv\")\n",
        "data.drop(data.index[:1], inplace=True)\n",
        "data.head(10)"
      ],
      "execution_count": 20,
      "outputs": [
        {
          "output_type": "execute_result",
          "data": {
            "text/html": [
              "<div>\n",
              "<style scoped>\n",
              "    .dataframe tbody tr th:only-of-type {\n",
              "        vertical-align: middle;\n",
              "    }\n",
              "\n",
              "    .dataframe tbody tr th {\n",
              "        vertical-align: top;\n",
              "    }\n",
              "\n",
              "    .dataframe thead th {\n",
              "        text-align: right;\n",
              "    }\n",
              "</style>\n",
              "<table border=\"1\" class=\"dataframe\">\n",
              "  <thead>\n",
              "    <tr style=\"text-align: right;\">\n",
              "      <th></th>\n",
              "      <th>Unnamed: 0</th>\n",
              "      <th>speed</th>\n",
              "      <th>kmh</th>\n",
              "      <th>yaw</th>\n",
              "      <th>rad</th>\n",
              "      <th>pirad</th>\n",
              "      <th>Fuzzy Value</th>\n",
              "    </tr>\n",
              "  </thead>\n",
              "  <tbody>\n",
              "    <tr>\n",
              "      <th>1</th>\n",
              "      <td>1</td>\n",
              "      <td>4.039999962</td>\n",
              "      <td>14.54399986</td>\n",
              "      <td>29.71372781</td>\n",
              "      <td>0.51881112</td>\n",
              "      <td>0.165076266</td>\n",
              "      <td>0.5</td>\n",
              "    </tr>\n",
              "    <tr>\n",
              "      <th>2</th>\n",
              "      <td>2</td>\n",
              "      <td>4.199999809</td>\n",
              "      <td>15.11999931</td>\n",
              "      <td>22.60497571</td>\n",
              "      <td>0.394690052</td>\n",
              "      <td>0.125583198</td>\n",
              "      <td>0.5</td>\n",
              "    </tr>\n",
              "    <tr>\n",
              "      <th>3</th>\n",
              "      <td>3</td>\n",
              "      <td>4.630000114</td>\n",
              "      <td>16.66800041</td>\n",
              "      <td>25.84657876</td>\n",
              "      <td>0.45128947</td>\n",
              "      <td>0.143592104</td>\n",
              "      <td>0.5</td>\n",
              "    </tr>\n",
              "    <tr>\n",
              "      <th>4</th>\n",
              "      <td>4</td>\n",
              "      <td>4.730000019</td>\n",
              "      <td>17.02800007</td>\n",
              "      <td>54.32799067</td>\n",
              "      <td>0.948583964</td>\n",
              "      <td>0.30182217</td>\n",
              "      <td>0.5</td>\n",
              "    </tr>\n",
              "    <tr>\n",
              "      <th>5</th>\n",
              "      <td>5</td>\n",
              "      <td>4.739999771</td>\n",
              "      <td>17.06399918</td>\n",
              "      <td>37.06370679</td>\n",
              "      <td>0.647144087</td>\n",
              "      <td>0.205909482</td>\n",
              "      <td>0.5</td>\n",
              "    </tr>\n",
              "    <tr>\n",
              "      <th>6</th>\n",
              "      <td>6</td>\n",
              "      <td>4.900000095</td>\n",
              "      <td>17.64000034</td>\n",
              "      <td>27.29276597</td>\n",
              "      <td>0.476540358</td>\n",
              "      <td>0.151626478</td>\n",
              "      <td>0.5</td>\n",
              "    </tr>\n",
              "    <tr>\n",
              "      <th>7</th>\n",
              "      <td>7</td>\n",
              "      <td>5.039999962</td>\n",
              "      <td>18.14399986</td>\n",
              "      <td>15.51907826</td>\n",
              "      <td>0.270968033</td>\n",
              "      <td>0.086217101</td>\n",
              "      <td>0.5</td>\n",
              "    </tr>\n",
              "    <tr>\n",
              "      <th>8</th>\n",
              "      <td>8</td>\n",
              "      <td>5.179999828</td>\n",
              "      <td>18.64799938</td>\n",
              "      <td>18.32299502</td>\n",
              "      <td>0.31992531</td>\n",
              "      <td>0.101794417</td>\n",
              "      <td>0.5</td>\n",
              "    </tr>\n",
              "    <tr>\n",
              "      <th>9</th>\n",
              "      <td>9</td>\n",
              "      <td>5.099999905</td>\n",
              "      <td>18.35999966</td>\n",
              "      <td>22.64730943</td>\n",
              "      <td>0.395429212</td>\n",
              "      <td>0.125818386</td>\n",
              "      <td>0.5</td>\n",
              "    </tr>\n",
              "    <tr>\n",
              "      <th>10</th>\n",
              "      <td>10</td>\n",
              "      <td>4.599999905</td>\n",
              "      <td>16.55999966</td>\n",
              "      <td>24.63382438</td>\n",
              "      <td>0.430114394</td>\n",
              "      <td>0.13685458</td>\n",
              "      <td>0.5</td>\n",
              "    </tr>\n",
              "  </tbody>\n",
              "</table>\n",
              "</div>"
            ],
            "text/plain": [
              "    Unnamed: 0        speed          kmh  ...          rad        pirad Fuzzy Value\n",
              "1            1  4.039999962  14.54399986  ...   0.51881112  0.165076266         0.5\n",
              "2            2  4.199999809  15.11999931  ...  0.394690052  0.125583198         0.5\n",
              "3            3  4.630000114  16.66800041  ...   0.45128947  0.143592104         0.5\n",
              "4            4  4.730000019  17.02800007  ...  0.948583964   0.30182217         0.5\n",
              "5            5  4.739999771  17.06399918  ...  0.647144087  0.205909482         0.5\n",
              "6            6  4.900000095  17.64000034  ...  0.476540358  0.151626478         0.5\n",
              "7            7  5.039999962  18.14399986  ...  0.270968033  0.086217101         0.5\n",
              "8            8  5.179999828  18.64799938  ...   0.31992531  0.101794417         0.5\n",
              "9            9  5.099999905  18.35999966  ...  0.395429212  0.125818386         0.5\n",
              "10          10  4.599999905  16.55999966  ...  0.430114394   0.13685458         0.5\n",
              "\n",
              "[10 rows x 7 columns]"
            ]
          },
          "metadata": {
            "tags": []
          },
          "execution_count": 20
        }
      ]
    },
    {
      "cell_type": "code",
      "metadata": {
        "colab": {
          "base_uri": "https://localhost:8080/",
          "height": 363
        },
        "id": "DNquiYiDr6cZ",
        "outputId": "60178fe1-0e97-46a7-8f78-ba5569395f58"
      },
      "source": [
        "data[\"Driver\"] = \"\"\n",
        "data.head(10)"
      ],
      "execution_count": 21,
      "outputs": [
        {
          "output_type": "execute_result",
          "data": {
            "text/html": [
              "<div>\n",
              "<style scoped>\n",
              "    .dataframe tbody tr th:only-of-type {\n",
              "        vertical-align: middle;\n",
              "    }\n",
              "\n",
              "    .dataframe tbody tr th {\n",
              "        vertical-align: top;\n",
              "    }\n",
              "\n",
              "    .dataframe thead th {\n",
              "        text-align: right;\n",
              "    }\n",
              "</style>\n",
              "<table border=\"1\" class=\"dataframe\">\n",
              "  <thead>\n",
              "    <tr style=\"text-align: right;\">\n",
              "      <th></th>\n",
              "      <th>Unnamed: 0</th>\n",
              "      <th>speed</th>\n",
              "      <th>kmh</th>\n",
              "      <th>yaw</th>\n",
              "      <th>rad</th>\n",
              "      <th>pirad</th>\n",
              "      <th>Fuzzy Value</th>\n",
              "      <th>Driver</th>\n",
              "    </tr>\n",
              "  </thead>\n",
              "  <tbody>\n",
              "    <tr>\n",
              "      <th>1</th>\n",
              "      <td>1</td>\n",
              "      <td>4.039999962</td>\n",
              "      <td>14.54399986</td>\n",
              "      <td>29.71372781</td>\n",
              "      <td>0.51881112</td>\n",
              "      <td>0.165076266</td>\n",
              "      <td>0.5</td>\n",
              "      <td></td>\n",
              "    </tr>\n",
              "    <tr>\n",
              "      <th>2</th>\n",
              "      <td>2</td>\n",
              "      <td>4.199999809</td>\n",
              "      <td>15.11999931</td>\n",
              "      <td>22.60497571</td>\n",
              "      <td>0.394690052</td>\n",
              "      <td>0.125583198</td>\n",
              "      <td>0.5</td>\n",
              "      <td></td>\n",
              "    </tr>\n",
              "    <tr>\n",
              "      <th>3</th>\n",
              "      <td>3</td>\n",
              "      <td>4.630000114</td>\n",
              "      <td>16.66800041</td>\n",
              "      <td>25.84657876</td>\n",
              "      <td>0.45128947</td>\n",
              "      <td>0.143592104</td>\n",
              "      <td>0.5</td>\n",
              "      <td></td>\n",
              "    </tr>\n",
              "    <tr>\n",
              "      <th>4</th>\n",
              "      <td>4</td>\n",
              "      <td>4.730000019</td>\n",
              "      <td>17.02800007</td>\n",
              "      <td>54.32799067</td>\n",
              "      <td>0.948583964</td>\n",
              "      <td>0.30182217</td>\n",
              "      <td>0.5</td>\n",
              "      <td></td>\n",
              "    </tr>\n",
              "    <tr>\n",
              "      <th>5</th>\n",
              "      <td>5</td>\n",
              "      <td>4.739999771</td>\n",
              "      <td>17.06399918</td>\n",
              "      <td>37.06370679</td>\n",
              "      <td>0.647144087</td>\n",
              "      <td>0.205909482</td>\n",
              "      <td>0.5</td>\n",
              "      <td></td>\n",
              "    </tr>\n",
              "    <tr>\n",
              "      <th>6</th>\n",
              "      <td>6</td>\n",
              "      <td>4.900000095</td>\n",
              "      <td>17.64000034</td>\n",
              "      <td>27.29276597</td>\n",
              "      <td>0.476540358</td>\n",
              "      <td>0.151626478</td>\n",
              "      <td>0.5</td>\n",
              "      <td></td>\n",
              "    </tr>\n",
              "    <tr>\n",
              "      <th>7</th>\n",
              "      <td>7</td>\n",
              "      <td>5.039999962</td>\n",
              "      <td>18.14399986</td>\n",
              "      <td>15.51907826</td>\n",
              "      <td>0.270968033</td>\n",
              "      <td>0.086217101</td>\n",
              "      <td>0.5</td>\n",
              "      <td></td>\n",
              "    </tr>\n",
              "    <tr>\n",
              "      <th>8</th>\n",
              "      <td>8</td>\n",
              "      <td>5.179999828</td>\n",
              "      <td>18.64799938</td>\n",
              "      <td>18.32299502</td>\n",
              "      <td>0.31992531</td>\n",
              "      <td>0.101794417</td>\n",
              "      <td>0.5</td>\n",
              "      <td></td>\n",
              "    </tr>\n",
              "    <tr>\n",
              "      <th>9</th>\n",
              "      <td>9</td>\n",
              "      <td>5.099999905</td>\n",
              "      <td>18.35999966</td>\n",
              "      <td>22.64730943</td>\n",
              "      <td>0.395429212</td>\n",
              "      <td>0.125818386</td>\n",
              "      <td>0.5</td>\n",
              "      <td></td>\n",
              "    </tr>\n",
              "    <tr>\n",
              "      <th>10</th>\n",
              "      <td>10</td>\n",
              "      <td>4.599999905</td>\n",
              "      <td>16.55999966</td>\n",
              "      <td>24.63382438</td>\n",
              "      <td>0.430114394</td>\n",
              "      <td>0.13685458</td>\n",
              "      <td>0.5</td>\n",
              "      <td></td>\n",
              "    </tr>\n",
              "  </tbody>\n",
              "</table>\n",
              "</div>"
            ],
            "text/plain": [
              "    Unnamed: 0        speed          kmh  ...        pirad Fuzzy Value Driver\n",
              "1            1  4.039999962  14.54399986  ...  0.165076266         0.5       \n",
              "2            2  4.199999809  15.11999931  ...  0.125583198         0.5       \n",
              "3            3  4.630000114  16.66800041  ...  0.143592104         0.5       \n",
              "4            4  4.730000019  17.02800007  ...   0.30182217         0.5       \n",
              "5            5  4.739999771  17.06399918  ...  0.205909482         0.5       \n",
              "6            6  4.900000095  17.64000034  ...  0.151626478         0.5       \n",
              "7            7  5.039999962  18.14399986  ...  0.086217101         0.5       \n",
              "8            8  5.179999828  18.64799938  ...  0.101794417         0.5       \n",
              "9            9  5.099999905  18.35999966  ...  0.125818386         0.5       \n",
              "10          10  4.599999905  16.55999966  ...   0.13685458         0.5       \n",
              "\n",
              "[10 rows x 8 columns]"
            ]
          },
          "metadata": {
            "tags": []
          },
          "execution_count": 21
        }
      ]
    },
    {
      "cell_type": "code",
      "metadata": {
        "id": "2zVKc_iJrr3y"
      },
      "source": [
        "def manuver(Fuzzy):\n",
        "  if Fuzzy <10:\n",
        "    return 'Agresif'\n",
        "  elif Fuzzy >30 and Fuzzy <40:\n",
        "    return 'overtake'\n",
        "  elif Fuzzy >15 and Fuzzy <25:\n",
        "    return 'Normal'\n",
        "  else:\n",
        "    return 'tidak terdeteksi'"
      ],
      "execution_count": 22,
      "outputs": []
    },
    {
      "cell_type": "code",
      "metadata": {
        "colab": {
          "base_uri": "https://localhost:8080/"
        },
        "id": "pWAS71QSBZls",
        "outputId": "f5afb0fd-ca5b-441e-b3da-ed528e5accdb"
      },
      "source": [
        "for i in range (1, len(data)):\n",
        "  data['Driver'][i] = manuver(data['Fuzzy Value'][i])\n",
        "data.head()\n",
        "\n",
        "data.to_csv('fuzzy4.csv')"
      ],
      "execution_count": 23,
      "outputs": [
        {
          "output_type": "stream",
          "text": [
            "/usr/local/lib/python3.7/dist-packages/ipykernel_launcher.py:2: SettingWithCopyWarning: \n",
            "A value is trying to be set on a copy of a slice from a DataFrame\n",
            "\n",
            "See the caveats in the documentation: https://pandas.pydata.org/pandas-docs/stable/user_guide/indexing.html#returning-a-view-versus-a-copy\n",
            "  \n"
          ],
          "name": "stderr"
        }
      ]
    },
    {
      "cell_type": "code",
      "metadata": {
        "colab": {
          "base_uri": "https://localhost:8080/",
          "height": 314
        },
        "id": "O-67PxctXGHg",
        "outputId": "486c557c-80b5-4097-a6da-ddd396b5b7f0"
      },
      "source": [
        "fig, ax1 = plt.subplots()\n",
        "\n",
        "#labels\n",
        "ax1.set_ylabel('Fuzzy Value')\n",
        "ax1.set_xlabel('Count')\n",
        "ax1.set_title('Put your title here')\n",
        "\n",
        "#c sequence\n",
        "c = data['Fuzzy Value']\n",
        "\n",
        "#plot\n",
        "plt.scatter(data['Unnamed: 0'], data['Fuzzy Value'] , c=c, \n",
        "            cmap = 'RdBu', alpha =0.5)\n",
        "plt.axhline(y=0.5, color='r', linestyle='-', label='Normal')\n",
        "plt.axhline(y=0.65, color='g', linestyle='-', label='Overtake')\n",
        "plt.axhline(y=0.35, color='b', linestyle='-', label='Aggresive')\n",
        "plt.legend()"
      ],
      "execution_count": 24,
      "outputs": [
        {
          "output_type": "execute_result",
          "data": {
            "text/plain": [
              "<matplotlib.legend.Legend at 0x7fc280227f90>"
            ]
          },
          "metadata": {
            "tags": []
          },
          "execution_count": 24
        },
        {
          "output_type": "display_data",
          "data": {
            "image/png": "[encoded data removed]",
            "text/plain": [
              "<Figure size 432x288 with 1 Axes>"
            ]
          },
          "metadata": {
            "tags": [],
            "needs_background": "light"
          }
        }
      ]
    }
  ]
}